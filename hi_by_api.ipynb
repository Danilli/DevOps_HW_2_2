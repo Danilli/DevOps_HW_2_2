{
 "cells": [
  {
   "cell_type": "code",
   "execution_count": 1,
   "id": "5dfc465b-80b6-4739-8a21-af56616467a7",
   "metadata": {
    "tags": []
   },
   "outputs": [],
   "source": [
    "\n",
    "from werkzeug.wrappers import Request, Response\n",
    "from werkzeug.serving import run_simple\n"
   ]
  },
  {
   "cell_type": "code",
   "execution_count": 5,
   "id": "71679430-ac39-4607-865d-c5e2e9b38bc5",
   "metadata": {
    "tags": []
   },
   "outputs": [],
   "source": [
    "\n",
    "def application(environ, start_response):\n",
    "    request = Request(environ)\n",
    "    if request.path == '/hi':\n",
    "        response = Response(\"Hello!\", content_type='text/plain')\n",
    "    elif request.path == '/bye':\n",
    "        response = Response(\"Dosvidos!\", content_type='text/plain')\n",
    "    else:\n",
    "        response = Response(\"say /hi or /bye\", status=404)\n",
    "    return response(environ, start_response)\n"
   ]
  },
  {
   "cell_type": "code",
   "execution_count": 3,
   "id": "d98c479f-af31-4d91-a5a9-9669972fd02b",
   "metadata": {
    "tags": []
   },
   "outputs": [
    {
     "name": "stderr",
     "output_type": "stream",
     "text": [
      "WARNING: This is a development server. Do not use it in a production deployment. Use a production WSGI server instead.\n",
      " * Running on http://localhost:1111\n",
      "Press CTRL+C to quit\n",
      "127.0.0.1 - - [08/Apr/2024 10:39:27] \"GET / HTTP/1.1\" 404 -\n",
      "127.0.0.1 - - [08/Apr/2024 10:39:27] \"GET /favicon.ico HTTP/1.1\" 404 -\n",
      "127.0.0.1 - - [08/Apr/2024 10:39:37] \"GET /bye HTTP/1.1\" 200 -\n"
     ]
    }
   ],
   "source": [
    "if __name__ == '__main__':\n",
    "    run_simple('localhost', 1111, application)\n"
   ]
  },
  {
   "cell_type": "code",
   "execution_count": null,
   "id": "67f23b22-2c17-40a0-b2d7-7d785fd10924",
   "metadata": {
    "tags": []
   },
   "outputs": [],
   "source": []
  },
  {
   "cell_type": "code",
   "execution_count": null,
   "id": "a7f50a12-6050-4b09-bb2a-06a93f1dc7cb",
   "metadata": {
    "tags": []
   },
   "outputs": [],
   "source": [
    "\n"
   ]
  },
  {
   "cell_type": "code",
   "execution_count": null,
   "id": "9906e49f-b574-43a2-941a-da4087f27c3d",
   "metadata": {},
   "outputs": [],
   "source": []
  }
 ],
 "metadata": {
  "kernelspec": {
   "display_name": "Python 3 (ipykernel)",
   "language": "python",
   "name": "python3"
  },
  "language_info": {
   "codemirror_mode": {
    "name": "ipython",
    "version": 3
   },
   "file_extension": ".py",
   "mimetype": "text/x-python",
   "name": "python",
   "nbconvert_exporter": "python",
   "pygments_lexer": "ipython3",
   "version": "3.11.5"
  }
 },
 "nbformat": 4,
 "nbformat_minor": 5
}
